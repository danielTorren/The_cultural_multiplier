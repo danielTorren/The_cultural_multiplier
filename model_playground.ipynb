{
 "cells": [
  {
   "cell_type": "markdown",
   "metadata": {},
   "source": [
    "Here we explore the effect of model components on a variety of outcomes. Please feel free to play around with it yourself!\n",
    "\n",
    "First we run a single experment, to do so we need to define the model run parameters."
   ]
  },
  {
   "cell_type": "code",
   "execution_count": null,
   "metadata": {},
   "outputs": [],
   "source": [
    "base_params = {\n",
    "    \"phi\": 0.02,\n",
    "    \"network_type\": \"SBM\",\n",
    "    \"carbon_price_increased\": 0.5,\n",
    "    \"save_timeseries_data_state\": 1,\n",
    "    \"compression_factor_state\": 1,\n",
    "    \"alpha_change_state\": \"dynamic_identity_determined_weights\",\n",
    "    \"seed_reps\": 1,\n",
    "    \"network_structure_seed\": 2, \n",
    "    \"preferences_seed\": 99, \n",
    "    \"shuffle_homophily_seed\": 55,\n",
    "    \"shuffle_coherance_seed\": 31,\n",
    "    \"carbon_price_duration\": 360,#360, \n",
    "    \"burn_in_duration\": 0, \n",
    "    \"N\": 300,#3000, \n",
    "    \"M\": 1, \n",
    "    \"M_identity\": 1,\n",
    "    \"sector_substitutability\": 2, \n",
    "    \"low_carbon_substitutability\": 4, \n",
    "    \"a_preferences\": 2, \n",
    "    \"b_preferences\": 2, \n",
    "    \"clipping_epsilon_init_preference\": 1e-5, \n",
    "    \"confirmation_bias\": 5, \n",
    "    \"init_carbon_price\": 0, \n",
    "    \"homophily_state\": 1,\n",
    "    \"coherance_state\": 0.9,\n",
    "    \"SF_density\":0.1,\n",
    "    \"SF_green_or_brown_hegemony\": -1,\n",
    "    \"SBM_block_num\": 2,\n",
    "    \"SBM_network_density_input_intra_block\": 0.2,\n",
    "    \"SBM_network_density_input_inter_block\": 0.005,\n",
    "    \"SW_network_density\": 0.1,#0.1,\n",
    "    \"SW_prob_rewire\": 0.1\n",
    "    }\n"
   ]
  },
  {
   "cell_type": "code",
   "execution_count": null,
   "metadata": {},
   "outputs": [],
   "source": [
    "from package.generating_data import single_experiment_gen\n",
    "fileName = single_experiment_gen.main(\n",
    "    base_params = base_params\n",
    ")"
   ]
  },
  {
   "cell_type": "markdown",
   "metadata": {},
   "source": [
    "Next we produce a variety of plots relating to the dynamics of indivduals"
   ]
  },
  {
   "cell_type": "code",
   "execution_count": null,
   "metadata": {},
   "outputs": [],
   "source": [
    "from package.plotting_data import single_experiment_plot\n",
    "single_experiment_plot.main(\n",
    "    fileName = fileName,\n",
    "    PLOT_NAME = \"INDIVIDUAL\",\n",
    ")"
   ]
  }
 ],
 "metadata": {
  "kernelspec": {
   "display_name": "Python 3 (ipykernel)",
   "language": "python",
   "name": "python3"
  },
  "language_info": {
   "codemirror_mode": {
    "name": "ipython",
    "version": 3
   },
   "file_extension": ".py",
   "mimetype": "text/x-python",
   "name": "python",
   "nbconvert_exporter": "python",
   "pygments_lexer": "ipython3",
   "version": "3.11.1"
  }
 },
 "nbformat": 4,
 "nbformat_minor": 2
}
