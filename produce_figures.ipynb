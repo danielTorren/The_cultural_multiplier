{
 "cells": [
  {
   "cell_type": "markdown",
   "metadata": {},
   "source": [
    "In the following notebook is contained the code required to reproduce each of the figures found in the paper.\n",
    "\n",
    "Figure 2: Social Networks"
   ]
  },
  {
   "cell_type": "code",
   "execution_count": null,
   "metadata": {},
   "outputs": [],
   "source": [
    "from package.generating_data import example_networks_gen\n",
    "example_networks_gen.main()"
   ]
  },
  {
   "cell_type": "markdown",
   "metadata": {},
   "source": [
    "Figure 3: Cumulative emissions for fixed preferences, social and cultural multiplier\n",
    "Figure 4: Multiplier\n",
    "\n",
    "Also produces Appendix Figures C10 and C11\n",
    "WARNING: As there are a large number of runs in the data used to generate this plot it will take a considerable time."
   ]
  },
  {
   "cell_type": "code",
   "execution_count": null,
   "metadata": {},
   "outputs": [],
   "source": [
    "from package.generating_data import network_tax_sweep_gen\n",
    "fileName_Figure_3 =   network_tax_sweep_gen.main(\n",
    "    BASE_PARAMS_LOAD = \"package/constants/base_params_networks_tax_sweep.json\",\n",
    "    VARIABLE_PARAMS_LOAD = \"package/constants/oneD_dict_networks_tax_sweep.json\",\n",
    "    scenarios = [\"fixed_preferences\",\"dynamic_socially_determined_weights\", \"dynamic_identity_determined_weights\" ],\n",
    ")"
   ]
  },
  {
   "cell_type": "code",
   "execution_count": null,
   "metadata": {},
   "outputs": [],
   "source": [
    "from package.plotting_data import network_tax_sweep_plot\n",
    "network_tax_sweep_plot.main(\n",
    "    fileName = fileName_Figure_3,\n",
    "    MULTIPLIER = 1\n",
    ")"
   ]
  },
  {
   "cell_type": "markdown",
   "metadata": {},
   "source": [
    "Figure 5: The cultural multiplier, carbon tax, and low- and high-carbon substitutability \n",
    "\n",
    "Also produces Appendix Figure C13\n",
    "WARNING: As there are a large number of runs in the data used to generate this plot it will take a considerable time."
   ]
  },
  {
   "cell_type": "code",
   "execution_count": null,
   "metadata": {},
   "outputs": [],
   "source": [
    "from package.generating_data import network_tau_sub_gen\n",
    "fileName_Figure_5 = network_tau_sub_gen.main(\n",
    "        BASE_PARAMS_LOAD = \"package/constants/base_params_networks_tau_sub.json\",\n",
    "        VARIABLE_PARAMS_LOAD = \"package/constants/twoD_dict_networks_tau_sub.json\",\n",
    "    )"
   ]
  },
  {
   "cell_type": "code",
   "execution_count": null,
   "metadata": {},
   "outputs": [],
   "source": [
    "from package.plotting_data import network_tau_sub_plot\n",
    "network_tau_sub_plot.main(    \n",
    "        fileName = fileName_Figure_5\n",
    "    )"
   ]
  },
  {
   "cell_type": "markdown",
   "metadata": {},
   "source": [
    "Figure 6: Low- and high-carbon substitutability, fixed preferences, the social multiplier and the cultural multiplier\n",
    "\n",
    "WARNING: As there are a large number of runs in the data used to generate this plot it will take a considerable time."
   ]
  },
  {
   "cell_type": "code",
   "execution_count": null,
   "metadata": {},
   "outputs": [],
   "source": [
    "from package.generating_data import network_tax_sweep_sub_gen\n",
    "fileName_Figure_6 = network_tax_sweep_sub_gen.main(\n",
    "        BASE_PARAMS_LOAD = \"package/constants/base_params_networks_tax_sweep_sub.json\",\n",
    "        VARIABLE_PARAMS_LOAD = \"package/constants/oneD_dict_networks_tax_sweep_sub.json\",\n",
    "        scenarios = [\"fixed_preferences\",\"dynamic_socially_determined_weights\", \"dynamic_identity_determined_weights\" ],\n",
    "    )"
   ]
  },
  {
   "cell_type": "code",
   "execution_count": null,
   "metadata": {},
   "outputs": [],
   "source": [
    "from package.plotting_data import network_tax_sweep_sub_plot\n",
    "network_tax_sweep_sub_plot.main(    \n",
    "    fileName = fileName_Figure_6\n",
    "    )"
   ]
  },
  {
   "cell_type": "markdown",
   "metadata": {},
   "source": [
    "Figure 7: Global sensitivity analysis\n",
    "\n",
    "Also produces Appendix Figure C14\n",
    "WARNING: As there are a large number of runs in the data used to generate this plot it will take a considerable time, specifically several days depending on ranges tested."
   ]
  },
  {
   "cell_type": "code",
   "execution_count": null,
   "metadata": {},
   "outputs": [],
   "source": [
    "from package.generating_data import sensitivity_analysis_gen\n",
    "fileName_Figure_7 = sensitivity_analysis_gen.main(\n",
    "    N_samples = 128,\n",
    "    BASE_PARAMS_LOAD = \"package/constants/base_params_sensitivity.json\",\n",
    "    VARIABLE_PARAMS_LOAD = \"package/constants/variable_parameters_dict_SA.json\",\n",
    "    calc_second_order = True\n",
    "    )"
   ]
  },
  {
   "cell_type": "code",
   "execution_count": null,
   "metadata": {},
   "outputs": [],
   "source": [
    "from package.plotting_data import sensitivity_analysis_plot\n",
    "sensitivity_analysis_plot.main(\n",
    "        fileName=fileName_Figure_7,\n",
    "        plot_outputs = ['emissions_stock'],\n",
    "        plot_dict = {\n",
    "            \"emissions_stock\": {\"title\": r\"Cumulative emissions, $E$\", \"colour\": \"red\", \"linestyle\": \"--\"},\n",
    "        },\n",
    "        titles = [    \n",
    "            \"Social suseptability, $\\\\phi$\",\n",
    "            \"Carbon tax, $\\\\tau$\",\n",
    "            \"Number of individuals, $N$\",\n",
    "            \"Number of sectors, $M$\",\n",
    "            \"Sector substitutability, $\\\\nu$\",\n",
    "            \"Low carbon substitutability, $\\\\sigma_{m}$\",\n",
    "            \"Confirmation bias, $\\\\theta$\",\n",
    "            \"Homophily state, $h$\",\n",
    "            \"Coherance state, $c$\",\n",
    "            \"Initial preference Beta, $a$ \",\n",
    "            \"Initial preference Beta, $b$ \",\n",
    "        ]\n",
    "    )"
   ]
  },
  {
   "cell_type": "markdown",
   "metadata": {},
   "source": [
    "Figure B8: Preferences and consumption ratios"
   ]
  },
  {
   "cell_type": "code",
   "execution_count": null,
   "metadata": {},
   "outputs": [],
   "source": [
    "from package.plotting_data import C_A_plot\n",
    "import numpy as np\n",
    "\n",
    "sigma_values = [1, 2,10]\n",
    "Q_values = [0.5, 0.75, 1.0]\n",
    "A_range = np.linspace(0, 1, 1000)\n",
    "line_style_list = [\"solid\", \"dotted\", \"dashed\", \"dashdot\",\"solid\", \"dotted\"]\n",
    "colour_list = [ \"red\", \"blue\", \"green\", \"yellow\", \"purple\", \"orange\", \"white\", \"black\" ]\n",
    "\n",
    "C_A_plot.plot_A_vs_C_triple_alt(sigma_values, Q_values, A_range,line_style_list,colour_list)\n",
    "    "
   ]
  },
  {
   "cell_type": "markdown",
   "metadata": {},
   "source": [
    "Figure C9: Example timeseries"
   ]
  },
  {
   "cell_type": "code",
   "execution_count": null,
   "metadata": {},
   "outputs": [],
   "source": [
    "from package.generating_data import example_timeseries_gen\n",
    "fileName_Figure_9 = example_timeseries_gen.main(BASE_PARAMS_LOAD = \"package/constants/base_params_timeseries.json\")"
   ]
  },
  {
   "cell_type": "code",
   "execution_count": null,
   "metadata": {},
   "outputs": [],
   "source": [
    "from package.plotting_data import example_timeseries_plot\n",
    "example_timeseries_plot.main(\n",
    "        fileName = fileName_Figure_9\n",
    "    )"
   ]
  },
  {
   "cell_type": "markdown",
   "metadata": {},
   "source": [
    "Figure C12: Number of consumption categories M"
   ]
  },
  {
   "cell_type": "code",
   "execution_count": null,
   "metadata": {},
   "outputs": [],
   "source": [
    "from package.generating_data import SW_M_gen\n",
    "fileName_Figure_12 = SW_M_gen.main(\n",
    "    BASE_PARAMS_LOAD = \"package/constants/base_params_M.json\",\n",
    "    VARIABLE_PARAMS_LOAD = \"package/constants/oneD_dict_M.json\",\n",
    ")"
   ]
  },
  {
   "cell_type": "code",
   "execution_count": null,
   "metadata": {},
   "outputs": [],
   "source": [
    "from package.plotting_data import SW_M_plot\n",
    "SW_M_plot.main(\n",
    "        fileName = fileName_Figure_12\n",
    "    )"
   ]
  },
  {
   "cell_type": "markdown",
   "metadata": {},
   "source": [
    "Figure C15: Homophily and Hegemony\n",
    "\n",
    "Also produces C16 and C17\n",
    "WARNING: As there are a large number of runs in the data used to generate this plot it will take a considerable time."
   ]
  },
  {
   "cell_type": "code",
   "execution_count": null,
   "metadata": {},
   "outputs": [],
   "source": [
    "from package.generating_data import network_homo_gen\n",
    "fileName_Figure_15 =  network_homo_gen.main(\n",
    "        BASE_PARAMS_LOAD = \"package/constants/base_params_networks_homo_tax.json\",\n",
    "        VARIABLE_PARAMS_LOAD = \"package/constants/oneD_dict_networks_homo_tax.json\",\n",
    "        VARIABLE_RUNS = 1,\n",
    "        FIXED_RUNS = 1\n",
    "    )"
   ]
  },
  {
   "cell_type": "code",
   "execution_count": null,
   "metadata": {},
   "outputs": [],
   "source": [
    "from package.plotting_data import network_homo_plot\n",
    "network_homo_plot.main(    \n",
    "    fileName = fileName_Figure_15\n",
    "    )"
   ]
  }
 ],
 "metadata": {
  "kernelspec": {
   "display_name": "Python 3 (ipykernel)",
   "language": "python",
   "name": "python3"
  },
  "language_info": {
   "codemirror_mode": {
    "name": "ipython",
    "version": 3
   },
   "file_extension": ".py",
   "mimetype": "text/x-python",
   "name": "python",
   "nbconvert_exporter": "python",
   "pygments_lexer": "ipython3",
   "version": "3.11.1"
  }
 },
 "nbformat": 4,
 "nbformat_minor": 2
}
